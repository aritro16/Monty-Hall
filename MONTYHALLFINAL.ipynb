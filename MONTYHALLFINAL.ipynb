{
 "cells": [
  {
   "cell_type": "code",
   "execution_count": 2,
   "id": "7a990874",
   "metadata": {},
   "outputs": [
    {
     "name": "stdout",
     "output_type": "stream",
     "text": [
      "Which door do you want to choose? (1,2,3): 3\n",
      "We are opening the door number-1\n",
      "Now, do you want to switch to door number-2? (yes/no)\n",
      "yes\n",
      "And your prize is .... GOAT\n"
     ]
    }
   ],
   "source": [
    "# Monty Hall Game in Python\n",
    "import random\n",
    "\n",
    "def play_monty_hall(choice):\n",
    "    # Prizes behind the door\n",
    "    # initial ordering doesn't matter\n",
    "    prizes = ['goat', 'car', 'goat']\n",
    "    \n",
    "    # Randomizing the prizes\n",
    "    random.shuffle(prizes) \n",
    "    \n",
    "    # Determining door without car to open\n",
    "    while True:\n",
    "        opening_door = random.randrange(len(prizes))\n",
    "        if prizes[opening_door] != 'car' and choice-1 != opening_door:\n",
    "            break\n",
    "    \n",
    "    opening_door = opening_door + 1\n",
    "    print('We are opening the door number-%d' % (opening_door))\n",
    "    \n",
    "    # Determining switching door\n",
    "    options = [1,2,3]\n",
    "    options.remove(choice)\n",
    "    options.remove(opening_door)\n",
    "    switching_door = options[0]\n",
    "    \n",
    "    # Asking for switching the option\n",
    "    print('Now, do you want to switch to door number-%d? (yes/no)' %(switching_door))\n",
    "    answer = input()\n",
    "    if answer == 'yes':\n",
    "        result = switching_door - 1\n",
    "    else:\n",
    "        result = choice - 1\n",
    "    \n",
    "    # Displaying the player's prize \n",
    "    print('And your prize is ....', prizes[result].upper())\n",
    "    \n",
    "# Reading initial choice\n",
    "choice = int(input('Which door do you want to choose? (1,2,3): '))\n",
    "\n",
    "# Playing game\n",
    "play_monty_hall(choice)"
   ]
  },
  {
   "cell_type": "code",
   "execution_count": 3,
   "id": "07e28006",
   "metadata": {},
   "outputs": [
    {
     "name": "stdout",
     "output_type": "stream",
     "text": [
      "How many doors do you want?\n",
      "50\n",
      "Monty Hall 50 doors: Percentage of Switch strategy and win probability is: 98.260000 %\n",
      "Monty Hall 50 doors: Percentage of No switch strategy and win probability is: 1.720000 %\n"
     ]
    },
    {
     "data": {
      "image/png": "[encoded data removed]",
      "text/plain": [
       "<Figure size 720x504 with 1 Axes>"
      ]
     },
     "metadata": {},
     "output_type": "display_data"
    }
   ],
   "source": [
    "import random\n",
    "import numpy as np\n",
    "from matplotlib import pyplot as plt\n",
    "m=0\n",
    "s=0\n",
    "class MontyHall(object):\n",
    "    def __init__(self, doors, num_trials=10000):\n",
    "        self.doors = doors\n",
    "        self.trials = num_trials\n",
    "\n",
    "    def get_door_to_open(self, opened_doors):\n",
    "        all_doors = set(list(range(1, self.doors+1)))\n",
    "        valid_doors = all_doors - opened_doors - set([self.car, self.contestant])\n",
    "        return np.random.choice(list(valid_doors))\n",
    "\n",
    "    def switch_the_door(self, opened_doors):\n",
    "        all_doors = set(list(range(1, self.doors+1)))\n",
    "        valid_doors = all_doors - opened_doors - set([self.contestant])\n",
    "        return np.random.choice(list(valid_doors))\n",
    "\n",
    "    def results_with_switch_strategy(self):    \n",
    "        count_win = 0\n",
    "        for t in range(self.trials):\n",
    "            opened = set()\n",
    "            self.contestant = random.randint(1, self.doors)\n",
    "            self.car = random.randint(1, self.doors)\n",
    "            while len(opened) < self.doors-2:\n",
    "                # Monty opens a goat door.\n",
    "                opened.add(self.get_door_to_open(opened))\n",
    "            #Contestant can only switch once per trial.\n",
    "            self.contestant = self.switch_the_door(opened) #Correction\n",
    "            if self.contestant == self.car:\n",
    "                count_win = count_win + 1\n",
    "                m=count_win/self.trials*100\n",
    "        return m\n",
    "   \n",
    "\n",
    "    def results_with_no_switch_strategy(self):\n",
    "        count_win = 0\n",
    "        for _ in range(self.trials):\n",
    "            self.contestant = random.randint(1, self.doors)\n",
    "            self.car = random.randint(1, self.doors)\n",
    "            if self.contestant == self.car:\n",
    "                count_win = count_win + 1\n",
    "                s=count_win/self.trials*100\n",
    "        return s\n",
    "\n",
    "    def compare_strategies(self):\n",
    "        print(\"Monty Hall %d doors: Percentage of Switch strategy and win probability is: %f\" % (self.doors, self.results_with_switch_strategy()),\"%\")\n",
    "        print(\"Monty Hall %d doors: Percentage of No switch strategy and win probability is: %f\" % (self.doors, self.results_with_no_switch_strategy()),\"%\")\n",
    "        # Creating dataset\n",
    "        montyhall = ['Switch strategy', 'No switch strategy']\n",
    " \n",
    "        data = [self.results_with_switch_strategy(),self.results_with_no_switch_strategy()]\n",
    " \n",
    "        # Creating the graph\n",
    "        fig = plt.figure(figsize =(10, 7))\n",
    "        plt.pie(data, labels = montyhall)\n",
    " \n",
    "        # show plot\n",
    "        plt.show()\n",
    "print(\"How many doors do you want?\")\n",
    "n=int(input())\n",
    "MH_doors_3 = MontyHall(n)\n",
    "MH_doors_3.compare_strategies()\n",
    "# MH_doors_4 = MontyHall(4)\n",
    "# MH_doors_4.compare_strategies()\n",
    "# MH_doors_100 = MontyHall(100, num_trials=10000)\n",
    "# MH_doors_100.compare_strategies()"
   ]
  },
  {
   "cell_type": "code",
   "execution_count": null,
   "id": "f3c60a14",
   "metadata": {},
   "outputs": [],
   "source": []
  }
 ],
 "metadata": {
  "kernelspec": {
   "display_name": "Python 3 (ipykernel)",
   "language": "python",
   "name": "python3"
  },
  "language_info": {
   "codemirror_mode": {
    "name": "ipython",
    "version": 3
   },
   "file_extension": ".py",
   "mimetype": "text/x-python",
   "name": "python",
   "nbconvert_exporter": "python",
   "pygments_lexer": "ipython3",
   "version": "3.9.7"
  }
 },
 "nbformat": 4,
 "nbformat_minor": 5
}
